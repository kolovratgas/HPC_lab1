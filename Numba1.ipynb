{
  "nbformat": 4,
  "nbformat_minor": 0,
  "metadata": {
    "colab": {
      "name": "Numba1.ipynb",
      "provenance": [],
      "collapsed_sections": []
    },
    "kernelspec": {
      "name": "python3",
      "display_name": "Python 3"
    },
    "language_info": {
      "name": "python"
    },
    "accelerator": "GPU"
  },
  "cells": [
    {
      "cell_type": "code",
      "metadata": {
        "colab": {
          "base_uri": "https://localhost:8080/"
        },
        "id": "5ITwGTAbNdIG",
        "outputId": "a87c62e0-c43b-45fa-9dc7-86051ee974d6"
      },
      "source": [
        "!pip install numba\n",
        "!pip install --upgrade tbb"
      ],
      "execution_count": 41,
      "outputs": [
        {
          "output_type": "stream",
          "name": "stdout",
          "text": [
            "Requirement already satisfied: numba in /usr/local/lib/python3.7/dist-packages (0.51.2)\n",
            "Requirement already satisfied: setuptools in /usr/local/lib/python3.7/dist-packages (from numba) (57.4.0)\n",
            "Requirement already satisfied: numpy>=1.15 in /usr/local/lib/python3.7/dist-packages (from numba) (1.19.5)\n",
            "Requirement already satisfied: llvmlite<0.35,>=0.34.0.dev0 in /usr/local/lib/python3.7/dist-packages (from numba) (0.34.0)\n",
            "Requirement already satisfied: tbb in /usr/local/lib/python3.7/dist-packages (2021.4.0)\n"
          ]
        }
      ]
    },
    {
      "cell_type": "code",
      "metadata": {
        "colab": {
          "base_uri": "https://localhost:8080/"
        },
        "id": "JIbZe2HsNszT",
        "outputId": "e9fe1300-f11e-40b5-b941-36fba3c1380f"
      },
      "source": [
        "from numba import njit, jit, vectorize, float64, cuda, prange\n",
        "import numba\n",
        "import numpy as np\n",
        "\n",
        "%pylab inline"
      ],
      "execution_count": 42,
      "outputs": [
        {
          "output_type": "stream",
          "name": "stdout",
          "text": [
            "Populating the interactive namespace from numpy and matplotlib\n"
          ]
        },
        {
          "output_type": "stream",
          "name": "stderr",
          "text": [
            "/usr/local/lib/python3.7/dist-packages/IPython/core/magics/pylab.py:161: UserWarning: pylab import has clobbered these variables: ['vectorize', 'float64']\n",
            "`%matplotlib` prevents importing * from pylab and numpy\n",
            "  \"\\n`%matplotlib` prevents importing * from pylab and numpy\"\n"
          ]
        }
      ]
    },
    {
      "cell_type": "code",
      "metadata": {
        "colab": {
          "base_uri": "https://localhost:8080/"
        },
        "id": "VeMxt5OTkI9E",
        "outputId": "59eb3a44-cbc8-4a96-eab9-cd505ccb37c5"
      },
      "source": [
        "numba.cuda.detect()"
      ],
      "execution_count": 43,
      "outputs": [
        {
          "output_type": "stream",
          "name": "stdout",
          "text": [
            "Found 1 CUDA devices\n",
            "id 0            b'Tesla K80'                              [SUPPORTED]\n",
            "                      compute capability: 3.7\n",
            "                           pci device id: 4\n",
            "                              pci bus id: 0\n",
            "Summary:\n",
            "\t1/1 devices are supported\n"
          ]
        },
        {
          "output_type": "execute_result",
          "data": {
            "text/plain": [
              "True"
            ]
          },
          "metadata": {},
          "execution_count": 43
        }
      ]
    },
    {
      "cell_type": "code",
      "metadata": {
        "id": "yUN3Dk27SI_3"
      },
      "source": [
        "x = 256"
      ],
      "execution_count": 44,
      "outputs": []
    },
    {
      "cell_type": "code",
      "metadata": {
        "id": "LK92g4y5N2fz"
      },
      "source": [
        "a = np.random.randn(x, x)\n",
        "b = np.random.randn(x, x)\n",
        "c = np.zeros((x, x))"
      ],
      "execution_count": 49,
      "outputs": []
    },
    {
      "cell_type": "code",
      "metadata": {
        "id": "hwZgn8j_Ow00",
        "colab": {
          "base_uri": "https://localhost:8080/"
        },
        "outputId": "fed810cd-2917-406b-8321-b71dcd943a4f"
      },
      "source": [
        "def cpuMM(a, b, c):\n",
        "      for i in range(c.shape[0]):\n",
        "        for j in range(c.shape[1]):               \n",
        "            tmp = 0\n",
        "            for k in range(a.shape[1]):\n",
        "                tmp += a[i, k] * a[k, j] \n",
        "            c[i, j] = tmp \n",
        "host_mat1 = c\n",
        "%time _= cpuMM(a, b, c)\n"
      ],
      "execution_count": 50,
      "outputs": [
        {
          "output_type": "stream",
          "name": "stdout",
          "text": [
            "CPU times: user 10.5 s, sys: 31.9 ms, total: 10.5 s\n",
            "Wall time: 10.5 s\n"
          ]
        }
      ]
    },
    {
      "cell_type": "code",
      "metadata": {
        "colab": {
          "base_uri": "https://localhost:8080/"
        },
        "id": "GKggbRaR6ybE",
        "outputId": "3f58b470-b6ad-4fb2-d893-d0ce6632ac81"
      },
      "source": [
        "@cuda.jit\n",
        "def gpuMM(a, b, c):\n",
        "  i, j = cuda.grid(2)\n",
        "  tmp = 0\n",
        "  for k in range(a.shape[1]):\n",
        "    tmp += a[i, k] * b[k, j]\n",
        "  c[i, j] = tmp\n",
        "\n",
        "count_threads = 6\n",
        "\n",
        "def DeviceHost(a, b, c):\n",
        "  device_A = cuda.to_device(a)\n",
        "  device_B = cuda.to_device(b)\n",
        "  device_C = cuda.device_array(c.shape, np.float64)\n",
        "\n",
        "  threads_per_block = (count_threads, count_threads)\n",
        "  blocks_per_grid_x = math.ceil(a.shape[0]/threads_per_block[0])\n",
        "  blocks_per_grid_y = math.ceil(a.shape[1]/threads_per_block[1])\n",
        "  blocks_per_grid = (blocks_per_grid_x, blocks_per_grid_y)\n",
        "\n",
        "  gpuMM[blocks_per_grid, threads_per_block](device_A, device_B, device_C)\n",
        "  return device_C.copy_to_host()\n",
        "%time _= DeviceHost(a, b, c)\n",
        "dev_mat = c\n"
      ],
      "execution_count": 52,
      "outputs": [
        {
          "output_type": "stream",
          "name": "stdout",
          "text": [
            "CPU times: user 194 ms, sys: 3 ms, total: 197 ms\n",
            "Wall time: 196 ms\n"
          ]
        }
      ]
    },
    {
      "cell_type": "code",
      "metadata": {
        "colab": {
          "base_uri": "https://localhost:8080/"
        },
        "id": "-S7v3lOlGgxo",
        "outputId": "009274e6-a595-488c-f2ee-16e78c555373"
      },
      "source": [
        "print(np.allclose(dev_mat, host_mat1))"
      ],
      "execution_count": 54,
      "outputs": [
        {
          "output_type": "stream",
          "name": "stdout",
          "text": [
            "True\n"
          ]
        }
      ]
    }
  ]
}