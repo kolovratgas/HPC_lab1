{
  "nbformat": 4,
  "nbformat_minor": 0,
  "metadata": {
    "colab": {
      "name": "Numba1.ipynb",
      "provenance": [],
      "collapsed_sections": [],
      "authorship_tag": "ABX9TyPR8rvKyTQTYeQmbi6YQE1W",
      "include_colab_link": true
    },
    "kernelspec": {
      "name": "python3",
      "display_name": "Python 3"
    },
    "language_info": {
      "name": "python"
    },
    "accelerator": "GPU"
  },
  "cells": [
    {
      "cell_type": "markdown",
      "metadata": {
        "id": "view-in-github",
        "colab_type": "text"
      },
      "source": [
        "<a href=\"https://colab.research.google.com/github/kolovratgas/HPC_lab1/blob/main/Numba1.ipynb\" target=\"_parent\"><img src=\"https://colab.research.google.com/assets/colab-badge.svg\" alt=\"Open In Colab\"/></a>"
      ]
    },
    {
      "cell_type": "code",
      "metadata": {
        "colab": {
          "base_uri": "https://localhost:8080/"
        },
        "id": "5ITwGTAbNdIG",
        "outputId": "0f0f0348-e5aa-413a-89a0-0791b46645a1"
      },
      "source": [
        "!pip install numba\n",
        "!pip install --upgrade tbb"
      ],
      "execution_count": 1,
      "outputs": [
        {
          "output_type": "stream",
          "name": "stdout",
          "text": [
            "Requirement already satisfied: numba in /usr/local/lib/python3.7/dist-packages (0.51.2)\n",
            "Requirement already satisfied: llvmlite<0.35,>=0.34.0.dev0 in /usr/local/lib/python3.7/dist-packages (from numba) (0.34.0)\n",
            "Requirement already satisfied: numpy>=1.15 in /usr/local/lib/python3.7/dist-packages (from numba) (1.19.5)\n",
            "Requirement already satisfied: setuptools in /usr/local/lib/python3.7/dist-packages (from numba) (57.4.0)\n",
            "Requirement already satisfied: tbb in /usr/local/lib/python3.7/dist-packages (2021.4.0)\n"
          ]
        }
      ]
    },
    {
      "cell_type": "code",
      "metadata": {
        "colab": {
          "base_uri": "https://localhost:8080/"
        },
        "id": "JIbZe2HsNszT",
        "outputId": "29d1c66a-0d60-49c3-ae97-4a2996c82619"
      },
      "source": [
        "from numba import njit, jit, vectorize, float64, cuda, prange\n",
        "import numba\n",
        "import numpy as np\n",
        "import time\n",
        "import pandas\n",
        "\n",
        "\n",
        "%pylab inline"
      ],
      "execution_count": 23,
      "outputs": [
        {
          "output_type": "stream",
          "name": "stdout",
          "text": [
            "Populating the interactive namespace from numpy and matplotlib\n"
          ]
        },
        {
          "output_type": "stream",
          "name": "stderr",
          "text": [
            "/usr/local/lib/python3.7/dist-packages/IPython/core/magics/pylab.py:161: UserWarning: pylab import has clobbered these variables: ['vectorize', 'float64']\n",
            "`%matplotlib` prevents importing * from pylab and numpy\n",
            "  \"\\n`%matplotlib` prevents importing * from pylab and numpy\"\n"
          ]
        }
      ]
    },
    {
      "cell_type": "code",
      "metadata": {
        "colab": {
          "base_uri": "https://localhost:8080/"
        },
        "id": "VeMxt5OTkI9E",
        "outputId": "4127019c-e5a8-48f3-f20b-66d8c53d5e1c"
      },
      "source": [
        "numba.cuda.detect()"
      ],
      "execution_count": 3,
      "outputs": [
        {
          "output_type": "stream",
          "name": "stdout",
          "text": [
            "Found 1 CUDA devices\n",
            "id 0            b'Tesla K80'                              [SUPPORTED]\n",
            "                      compute capability: 3.7\n",
            "                           pci device id: 4\n",
            "                              pci bus id: 0\n",
            "Summary:\n",
            "\t1/1 devices are supported\n"
          ]
        },
        {
          "output_type": "execute_result",
          "data": {
            "text/plain": [
              "True"
            ]
          },
          "metadata": {},
          "execution_count": 3
        }
      ]
    },
    {
      "cell_type": "code",
      "metadata": {
        "id": "yUN3Dk27SI_3"
      },
      "source": [
        ""
      ],
      "execution_count": 4,
      "outputs": []
    },
    {
      "cell_type": "code",
      "metadata": {
        "id": "LK92g4y5N2fz"
      },
      "source": [
        "x1 = 256\n",
        "a1 = np.random.randn(x1, x1)\n",
        "b1 = np.random.randn(x1, x1)\n",
        "c1 = np.zeros((x1, x1))"
      ],
      "execution_count": 26,
      "outputs": []
    },
    {
      "cell_type": "code",
      "metadata": {
        "id": "Hke7eFWZcZBv"
      },
      "source": [
        "x2 = 512\n",
        "a2 = np.random.randn(x2, x2)\n",
        "b2 = np.random.randn(x2, x2)\n",
        "c2 = np.zeros((x2, x2))"
      ],
      "execution_count": 29,
      "outputs": []
    },
    {
      "cell_type": "code",
      "metadata": {
        "id": "tQ-zhJUocf2w"
      },
      "source": [
        "x3 = 1024\n",
        "a3 = np.random.randn(x3, x3)\n",
        "b3 = np.random.randn(x3, x3)\n",
        "c3 = np.zeros((x3, x3))"
      ],
      "execution_count": 30,
      "outputs": []
    },
    {
      "cell_type": "code",
      "metadata": {
        "id": "hwZgn8j_Ow00"
      },
      "source": [
        "def cpuMM(a, b, c):\n",
        "      for i in range(c.shape[0]):\n",
        "        for j in range(c.shape[1]):               \n",
        "            tmp = 0\n",
        "            for k in range(a.shape[1]):\n",
        "                tmp += a[i, k] * a[k, j] \n",
        "            c[i, j] = tmp \n",
        "host_mat1 = c"
      ],
      "execution_count": 32,
      "outputs": []
    },
    {
      "cell_type": "code",
      "metadata": {
        "colab": {
          "base_uri": "https://localhost:8080/"
        },
        "id": "75sF3DSVXv3e",
        "outputId": "b5e3c0dc-0ca3-4a63-b691-f86583143572"
      },
      "source": [
        "startCPU1 = time.time()\n",
        "cpuMM(a1,b1,c1)\n",
        "endCPU1 = time.time()-startCPU1\n",
        "print(endCPU1)"
      ],
      "execution_count": 33,
      "outputs": [
        {
          "output_type": "stream",
          "name": "stdout",
          "text": [
            "10.783913373947144\n"
          ]
        }
      ]
    },
    {
      "cell_type": "code",
      "metadata": {
        "colab": {
          "base_uri": "https://localhost:8080/"
        },
        "id": "QqZ7JNJkc4EQ",
        "outputId": "891682e9-bc40-4057-cc98-0a9f5bb05a43"
      },
      "source": [
        "startCPU2 = time.time()\n",
        "cpuMM(a2,b2,c2)\n",
        "endCPU2 = time.time()-startCPU2\n",
        "print(endCPU2)"
      ],
      "execution_count": 34,
      "outputs": [
        {
          "output_type": "stream",
          "name": "stdout",
          "text": [
            "86.52684473991394\n"
          ]
        }
      ]
    },
    {
      "cell_type": "code",
      "metadata": {
        "colab": {
          "base_uri": "https://localhost:8080/"
        },
        "id": "VOHIKM7zdFO3",
        "outputId": "e04f735e-c232-4c4c-b743-492d24a00af8"
      },
      "source": [
        "startCPU3 = time.time()\n",
        "cpuMM(a3,b3,c3)\n",
        "endCPU3 = time.time()-startCPU3\n",
        "print(endCPU3)"
      ],
      "execution_count": 35,
      "outputs": [
        {
          "output_type": "stream",
          "name": "stdout",
          "text": [
            "694.7470121383667\n"
          ]
        }
      ]
    },
    {
      "cell_type": "code",
      "metadata": {
        "colab": {
          "base_uri": "https://localhost:8080/"
        },
        "id": "GKggbRaR6ybE",
        "outputId": "2f5f1265-32bd-425d-cfb2-632ea0bd2a81"
      },
      "source": [
        "@cuda.jit\n",
        "def gpuMM(a, b, c):\n",
        "  i, j = cuda.grid(2)\n",
        "  if i < c.shape[0] and j < c.shape[1]:\n",
        "    tmp = 0\n",
        "    for k in range(a.shape[1]):\n",
        "      tmp += a[i, k] * b[k, j]\n",
        "    c[i, j] = tmp\n",
        "\n",
        "count_threads = 6\n",
        "\n",
        "def DeviceHost(a, b, c):\n",
        "  device_A = cuda.to_device(a)\n",
        "  device_B = cuda.to_device(b)\n",
        "  device_C = cuda.device_array(c.shape, np.float64)\n",
        "\n",
        "  threads_per_block = (count_threads, count_threads)\n",
        "  blocks_per_grid_x = math.ceil(a.shape[0]/threads_per_block[0])\n",
        "  blocks_per_grid_y = math.ceil(a.shape[1]/threads_per_block[1])\n",
        "  blocks_per_grid = (blocks_per_grid_x, blocks_per_grid_y)\n",
        "\n",
        "  gpuMM[blocks_per_grid, threads_per_block](device_A, device_B, device_C)\n",
        "  return device_C.copy_to_host()\n",
        "dev_mat = c\n",
        "%time _=DeviceHost(a, b, c)\n"
      ],
      "execution_count": 21,
      "outputs": [
        {
          "output_type": "stream",
          "name": "stdout",
          "text": [
            "CPU times: user 208 ms, sys: 5.98 ms, total: 214 ms\n",
            "Wall time: 215 ms\n"
          ]
        }
      ]
    },
    {
      "cell_type": "code",
      "metadata": {
        "colab": {
          "base_uri": "https://localhost:8080/"
        },
        "id": "poooryy6Y0k0",
        "outputId": "2cf519d9-263f-4b1f-9816-0ebc87980381"
      },
      "source": [
        "startGPU1 = time.time()\n",
        "DeviceHost(a1,b1,c1)\n",
        "endGPU1 = time.time()-startGPU1\n",
        "print(endGPU1)"
      ],
      "execution_count": 36,
      "outputs": [
        {
          "output_type": "stream",
          "name": "stdout",
          "text": [
            "0.007460117340087891\n"
          ]
        }
      ]
    },
    {
      "cell_type": "code",
      "metadata": {
        "colab": {
          "base_uri": "https://localhost:8080/"
        },
        "id": "ygkBBMPJdRuE",
        "outputId": "73164cca-1200-44e3-ddae-70a073e6b74f"
      },
      "source": [
        "startGPU2 = time.time()\n",
        "DeviceHost(a2,b2,c2)\n",
        "endGPU2 = time.time()-startGPU2\n",
        "print(endGPU2)"
      ],
      "execution_count": 37,
      "outputs": [
        {
          "output_type": "stream",
          "name": "stdout",
          "text": [
            "0.034464120864868164\n"
          ]
        }
      ]
    },
    {
      "cell_type": "code",
      "metadata": {
        "colab": {
          "base_uri": "https://localhost:8080/"
        },
        "id": "oVJzU93BdWVs",
        "outputId": "8af24e3c-c7f9-4030-8cdf-1608e169dfbe"
      },
      "source": [
        "startGPU3 = time.time()\n",
        "DeviceHost(a3,b3,c3)\n",
        "endGPU3 = time.time()-startGPU3\n",
        "print(endGPU3)"
      ],
      "execution_count": 38,
      "outputs": [
        {
          "output_type": "stream",
          "name": "stdout",
          "text": [
            "0.1592714786529541\n"
          ]
        }
      ]
    },
    {
      "cell_type": "code",
      "metadata": {
        "colab": {
          "base_uri": "https://localhost:8080/"
        },
        "id": "-S7v3lOlGgxo",
        "outputId": "c29ecacf-8fa9-43eb-c847-6c6e0901ded3"
      },
      "source": [
        "print(np.allclose(dev_mat, host_mat1))"
      ],
      "execution_count": 10,
      "outputs": [
        {
          "output_type": "stream",
          "name": "stdout",
          "text": [
            "True\n"
          ]
        }
      ]
    },
    {
      "cell_type": "code",
      "metadata": {
        "colab": {
          "base_uri": "https://localhost:8080/",
          "height": 234
        },
        "id": "BlA2creua_0x",
        "outputId": "523a0262-d5de-48c4-8e2f-99502dbd4ced"
      },
      "source": [
        "timing_df = pandas.DataFrame({'name':['cpu', 'gpu', 'cpu', 'gpu', 'cpu', 'gpu'], 'timing_in_seconds':[endCPU1, endGPU1, endCPU2, endGPU2, endCPU3, endGPU3], 'matrix_size':['256 x 256', '256 x 256', '512 x 512', '512 x 512', '1024 x 1024', '1024 x 1024']})\n",
        "timing_df"
      ],
      "execution_count": 39,
      "outputs": [
        {
          "output_type": "execute_result",
          "data": {
            "text/html": [
              "<div>\n",
              "<style scoped>\n",
              "    .dataframe tbody tr th:only-of-type {\n",
              "        vertical-align: middle;\n",
              "    }\n",
              "\n",
              "    .dataframe tbody tr th {\n",
              "        vertical-align: top;\n",
              "    }\n",
              "\n",
              "    .dataframe thead th {\n",
              "        text-align: right;\n",
              "    }\n",
              "</style>\n",
              "<table border=\"1\" class=\"dataframe\">\n",
              "  <thead>\n",
              "    <tr style=\"text-align: right;\">\n",
              "      <th></th>\n",
              "      <th>name</th>\n",
              "      <th>timing in seconds</th>\n",
              "      <th>matrix size</th>\n",
              "    </tr>\n",
              "  </thead>\n",
              "  <tbody>\n",
              "    <tr>\n",
              "      <th>0</th>\n",
              "      <td>cpu</td>\n",
              "      <td>10.783913</td>\n",
              "      <td>256 x 256</td>\n",
              "    </tr>\n",
              "    <tr>\n",
              "      <th>1</th>\n",
              "      <td>gpu</td>\n",
              "      <td>0.007460</td>\n",
              "      <td>256 x 256</td>\n",
              "    </tr>\n",
              "    <tr>\n",
              "      <th>2</th>\n",
              "      <td>cpu</td>\n",
              "      <td>86.526845</td>\n",
              "      <td>512 x 512</td>\n",
              "    </tr>\n",
              "    <tr>\n",
              "      <th>3</th>\n",
              "      <td>gpu</td>\n",
              "      <td>0.034464</td>\n",
              "      <td>512 x 512</td>\n",
              "    </tr>\n",
              "    <tr>\n",
              "      <th>4</th>\n",
              "      <td>cpu</td>\n",
              "      <td>694.747012</td>\n",
              "      <td>1024 x 1024</td>\n",
              "    </tr>\n",
              "    <tr>\n",
              "      <th>5</th>\n",
              "      <td>gpu</td>\n",
              "      <td>0.159271</td>\n",
              "      <td>1024 x 1024</td>\n",
              "    </tr>\n",
              "  </tbody>\n",
              "</table>\n",
              "</div>"
            ],
            "text/plain": [
              "  name  timing in seconds  matrix size\n",
              "0  cpu          10.783913    256 x 256\n",
              "1  gpu           0.007460    256 x 256\n",
              "2  cpu          86.526845    512 x 512\n",
              "3  gpu           0.034464    512 x 512\n",
              "4  cpu         694.747012  1024 x 1024\n",
              "5  gpu           0.159271  1024 x 1024"
            ]
          },
          "metadata": {},
          "execution_count": 39
        }
      ]
    }
  ]
}