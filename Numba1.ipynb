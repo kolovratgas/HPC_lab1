{
  "nbformat": 4,
  "nbformat_minor": 0,
  "metadata": {
    "colab": {
      "name": "Numba1.ipynb",
      "provenance": [],
      "collapsed_sections": [],
      "authorship_tag": "ABX9TyMkPln2KE1TBZur/kBibh/r",
      "include_colab_link": true
    },
    "kernelspec": {
      "name": "python3",
      "display_name": "Python 3"
    },
    "language_info": {
      "name": "python"
    },
    "accelerator": "GPU"
  },
  "cells": [
    {
      "cell_type": "markdown",
      "metadata": {
        "id": "view-in-github",
        "colab_type": "text"
      },
      "source": [
        "<a href=\"https://colab.research.google.com/github/kolovratgas/HPC_lab1/blob/main/Numba1.ipynb\" target=\"_parent\"><img src=\"https://colab.research.google.com/assets/colab-badge.svg\" alt=\"Open In Colab\"/></a>"
      ]
    },
    {
      "cell_type": "code",
      "metadata": {
        "colab": {
          "base_uri": "https://localhost:8080/"
        },
        "id": "5ITwGTAbNdIG",
        "outputId": "250839f3-0ad2-489a-ccf0-f7a7d1753c9e"
      },
      "source": [
        "!pip install numba\n",
        "!pip install --upgrade tbb"
      ],
      "execution_count": 1,
      "outputs": [
        {
          "output_type": "stream",
          "name": "stdout",
          "text": [
            "Requirement already satisfied: numba in /usr/local/lib/python3.7/dist-packages (0.51.2)\n",
            "Requirement already satisfied: llvmlite<0.35,>=0.34.0.dev0 in /usr/local/lib/python3.7/dist-packages (from numba) (0.34.0)\n",
            "Requirement already satisfied: numpy>=1.15 in /usr/local/lib/python3.7/dist-packages (from numba) (1.19.5)\n",
            "Requirement already satisfied: setuptools in /usr/local/lib/python3.7/dist-packages (from numba) (57.4.0)\n",
            "Collecting tbb\n",
            "  Downloading tbb-2021.4.0-py2.py3-none-manylinux1_x86_64.whl (4.0 MB)\n",
            "\u001b[K     |████████████████████████████████| 4.0 MB 5.4 MB/s \n",
            "\u001b[?25hInstalling collected packages: tbb\n",
            "Successfully installed tbb-2021.4.0\n"
          ]
        }
      ]
    },
    {
      "cell_type": "code",
      "metadata": {
        "colab": {
          "base_uri": "https://localhost:8080/"
        },
        "id": "JIbZe2HsNszT",
        "outputId": "36ef72f3-de47-480e-a74f-0d18b0abec56"
      },
      "source": [
        "from numba import njit, jit, vectorize, float64, cuda, prange\n",
        "import numba\n",
        "import numpy as np\n",
        "import time\n",
        "import pandas\n",
        "\n",
        "\n",
        "%pylab inline"
      ],
      "execution_count": 2,
      "outputs": [
        {
          "output_type": "stream",
          "name": "stdout",
          "text": [
            "Populating the interactive namespace from numpy and matplotlib\n"
          ]
        },
        {
          "output_type": "stream",
          "name": "stderr",
          "text": [
            "/usr/local/lib/python3.7/dist-packages/IPython/core/magics/pylab.py:161: UserWarning: pylab import has clobbered these variables: ['float64', 'vectorize']\n",
            "`%matplotlib` prevents importing * from pylab and numpy\n",
            "  \"\\n`%matplotlib` prevents importing * from pylab and numpy\"\n"
          ]
        }
      ]
    },
    {
      "cell_type": "code",
      "metadata": {
        "colab": {
          "base_uri": "https://localhost:8080/"
        },
        "id": "VeMxt5OTkI9E",
        "outputId": "3e5b7bc2-c6be-49ab-baae-f2e49741f20f"
      },
      "source": [
        "numba.cuda.detect()"
      ],
      "execution_count": 3,
      "outputs": [
        {
          "output_type": "stream",
          "name": "stdout",
          "text": [
            "Found 1 CUDA devices\n",
            "id 0            b'Tesla K80'                              [SUPPORTED]\n",
            "                      compute capability: 3.7\n",
            "                           pci device id: 4\n",
            "                              pci bus id: 0\n",
            "Summary:\n",
            "\t1/1 devices are supported\n"
          ]
        },
        {
          "output_type": "execute_result",
          "data": {
            "text/plain": [
              "True"
            ]
          },
          "metadata": {},
          "execution_count": 3
        }
      ]
    },
    {
      "cell_type": "code",
      "metadata": {
        "id": "LK92g4y5N2fz"
      },
      "source": [
        "x1 = 256\n",
        "a1 = np.random.randn(x1, x1)\n",
        "b1 = np.random.randn(x1, x1)\n",
        "c1 = np.zeros((x1, x1))"
      ],
      "execution_count": 4,
      "outputs": []
    },
    {
      "cell_type": "code",
      "metadata": {
        "id": "Hke7eFWZcZBv"
      },
      "source": [
        "x2 = 512\n",
        "a2 = np.random.randn(x2, x2)\n",
        "b2 = np.random.randn(x2, x2)\n",
        "c2 = np.zeros((x2, x2))"
      ],
      "execution_count": null,
      "outputs": []
    },
    {
      "cell_type": "code",
      "metadata": {
        "id": "tQ-zhJUocf2w"
      },
      "source": [
        "x3 = 1024\n",
        "a3 = np.random.randn(x3, x3)\n",
        "b3 = np.random.randn(x3, x3)\n",
        "c3 = np.zeros((x3, x3))"
      ],
      "execution_count": null,
      "outputs": []
    },
    {
      "cell_type": "code",
      "metadata": {
        "id": "hwZgn8j_Ow00"
      },
      "source": [
        "def cpuMM(a, b, c):\n",
        "      for i in range(c.shape[0]):\n",
        "        for j in range(c.shape[1]):               \n",
        "            tmp = 0\n",
        "            for k in range(a.shape[1]):\n",
        "                tmp += a[i, k] * a[k, j] \n",
        "            c[i, j] = tmp \n",
        "host_mat1 = c1"
      ],
      "execution_count": 5,
      "outputs": []
    },
    {
      "cell_type": "code",
      "metadata": {
        "colab": {
          "base_uri": "https://localhost:8080/"
        },
        "id": "75sF3DSVXv3e",
        "outputId": "268813c7-c010-49e6-b532-6df7f6dcb2ec"
      },
      "source": [
        "startCPU1 = time.time()\n",
        "cpuMM(a1,b1,c1)\n",
        "endCPU1 = time.time()-startCPU1\n",
        "print(endCPU1)"
      ],
      "execution_count": 6,
      "outputs": [
        {
          "output_type": "stream",
          "name": "stdout",
          "text": [
            "10.380768537521362\n"
          ]
        }
      ]
    },
    {
      "cell_type": "code",
      "metadata": {
        "colab": {
          "base_uri": "https://localhost:8080/"
        },
        "id": "QqZ7JNJkc4EQ",
        "outputId": "891682e9-bc40-4057-cc98-0a9f5bb05a43"
      },
      "source": [
        "startCPU2 = time.time()\n",
        "cpuMM(a2,b2,c2)\n",
        "endCPU2 = time.time()-startCPU2\n",
        "print(endCPU2)"
      ],
      "execution_count": null,
      "outputs": [
        {
          "output_type": "stream",
          "name": "stdout",
          "text": [
            "86.52684473991394\n"
          ]
        }
      ]
    },
    {
      "cell_type": "code",
      "metadata": {
        "colab": {
          "base_uri": "https://localhost:8080/"
        },
        "id": "VOHIKM7zdFO3",
        "outputId": "e04f735e-c232-4c4c-b743-492d24a00af8"
      },
      "source": [
        "startCPU3 = time.time()\n",
        "cpuMM(a3,b3,c3)\n",
        "endCPU3 = time.time()-startCPU3\n",
        "print(endCPU3)"
      ],
      "execution_count": null,
      "outputs": [
        {
          "output_type": "stream",
          "name": "stdout",
          "text": [
            "694.7470121383667\n"
          ]
        }
      ]
    },
    {
      "cell_type": "code",
      "metadata": {
        "id": "GKggbRaR6ybE"
      },
      "source": [
        "@cuda.jit\n",
        "def gpuMM(a, b, c):\n",
        "  i, j = cuda.grid(2)\n",
        "  if i < c.shape[0] and j < c.shape[1]:\n",
        "    tmp = 0\n",
        "    for k in range(a.shape[1]):\n",
        "      tmp += a[i, k] * b[k, j]\n",
        "    c[i, j] = tmp\n",
        "\n",
        "count_threads = 6\n",
        "\n",
        "def DeviceHost(a, b, c):\n",
        "  device_A = cuda.to_device(a)\n",
        "  device_B = cuda.to_device(b)\n",
        "  device_C = cuda.device_array(c.shape, np.float64)\n",
        "\n",
        "  threads_per_block = (count_threads, count_threads)\n",
        "  blocks_per_grid_x = math.ceil(a.shape[0]/threads_per_block[0])\n",
        "  blocks_per_grid_y = math.ceil(a.shape[1]/threads_per_block[1])\n",
        "  blocks_per_grid = (blocks_per_grid_x, blocks_per_grid_y)\n",
        "\n",
        "  gpuMM[blocks_per_grid, threads_per_block](device_A, device_B, device_C)\n",
        "  return device_C.copy_to_host()\n",
        "dev_mat = c1\n"
      ],
      "execution_count": 8,
      "outputs": []
    },
    {
      "cell_type": "code",
      "metadata": {
        "colab": {
          "base_uri": "https://localhost:8080/"
        },
        "id": "poooryy6Y0k0",
        "outputId": "e10a66ab-9106-4e76-ced6-f925b9e3ea84"
      },
      "source": [
        "startGPU1 = time.time()\n",
        "DeviceHost(a1,b1,c1)\n",
        "endGPU1 = time.time()-startGPU1\n",
        "print(endGPU1)"
      ],
      "execution_count": 9,
      "outputs": [
        {
          "output_type": "stream",
          "name": "stdout",
          "text": [
            "0.9079232215881348\n"
          ]
        }
      ]
    },
    {
      "cell_type": "code",
      "metadata": {
        "colab": {
          "base_uri": "https://localhost:8080/",
          "height": 212
        },
        "id": "ygkBBMPJdRuE",
        "outputId": "808b1b6b-590a-4722-f9db-91e6298b408f"
      },
      "source": [
        "startGPU2 = time.time()\n",
        "DeviceHost(a2,b2,c2)\n",
        "endGPU2 = time.time()-startGPU2\n",
        "print(endGPU2)"
      ],
      "execution_count": 10,
      "outputs": [
        {
          "output_type": "error",
          "ename": "NameError",
          "evalue": "ignored",
          "traceback": [
            "\u001b[0;31m---------------------------------------------------------------------------\u001b[0m",
            "\u001b[0;31mNameError\u001b[0m                                 Traceback (most recent call last)",
            "\u001b[0;32m<ipython-input-10-3aed912652ac>\u001b[0m in \u001b[0;36m<module>\u001b[0;34m()\u001b[0m\n\u001b[1;32m      1\u001b[0m \u001b[0mstartGPU2\u001b[0m \u001b[0;34m=\u001b[0m \u001b[0mtime\u001b[0m\u001b[0;34m.\u001b[0m\u001b[0mtime\u001b[0m\u001b[0;34m(\u001b[0m\u001b[0;34m)\u001b[0m\u001b[0;34m\u001b[0m\u001b[0;34m\u001b[0m\u001b[0m\n\u001b[0;32m----> 2\u001b[0;31m \u001b[0mDeviceHost\u001b[0m\u001b[0;34m(\u001b[0m\u001b[0ma2\u001b[0m\u001b[0;34m,\u001b[0m\u001b[0mb2\u001b[0m\u001b[0;34m,\u001b[0m\u001b[0mc2\u001b[0m\u001b[0;34m)\u001b[0m\u001b[0;34m\u001b[0m\u001b[0;34m\u001b[0m\u001b[0m\n\u001b[0m\u001b[1;32m      3\u001b[0m \u001b[0mendGPU2\u001b[0m \u001b[0;34m=\u001b[0m \u001b[0mtime\u001b[0m\u001b[0;34m.\u001b[0m\u001b[0mtime\u001b[0m\u001b[0;34m(\u001b[0m\u001b[0;34m)\u001b[0m\u001b[0;34m-\u001b[0m\u001b[0mstartGPU2\u001b[0m\u001b[0;34m\u001b[0m\u001b[0;34m\u001b[0m\u001b[0m\n\u001b[1;32m      4\u001b[0m \u001b[0mprint\u001b[0m\u001b[0;34m(\u001b[0m\u001b[0mendGPU2\u001b[0m\u001b[0;34m)\u001b[0m\u001b[0;34m\u001b[0m\u001b[0;34m\u001b[0m\u001b[0m\n",
            "\u001b[0;31mNameError\u001b[0m: name 'a2' is not defined"
          ]
        }
      ]
    },
    {
      "cell_type": "code",
      "metadata": {
        "colab": {
          "base_uri": "https://localhost:8080/"
        },
        "id": "oVJzU93BdWVs",
        "outputId": "8af24e3c-c7f9-4030-8cdf-1608e169dfbe"
      },
      "source": [
        "startGPU3 = time.time()\n",
        "DeviceHost(a3,b3,c3)\n",
        "endGPU3 = time.time()-startGPU3\n",
        "print(endGPU3)"
      ],
      "execution_count": null,
      "outputs": [
        {
          "output_type": "stream",
          "name": "stdout",
          "text": [
            "0.1592714786529541\n"
          ]
        }
      ]
    },
    {
      "cell_type": "code",
      "metadata": {
        "colab": {
          "base_uri": "https://localhost:8080/"
        },
        "id": "-S7v3lOlGgxo",
        "outputId": "9bf5574c-fe68-42ca-9687-3ab5a603026f"
      },
      "source": [
        "print(np.allclose(dev_mat, host_mat1))"
      ],
      "execution_count": 11,
      "outputs": [
        {
          "output_type": "stream",
          "name": "stdout",
          "text": [
            "True\n"
          ]
        }
      ]
    },
    {
      "cell_type": "code",
      "metadata": {
        "colab": {
          "base_uri": "https://localhost:8080/",
          "height": 234
        },
        "id": "BlA2creua_0x",
        "outputId": "523a0262-d5de-48c4-8e2f-99502dbd4ced"
      },
      "source": [
        "timing_df = pandas.DataFrame({'name':['cpu', 'gpu', 'cpu', 'gpu', 'cpu', 'gpu'], 'timing_in_seconds':[endCPU1, endGPU1, endCPU2, endGPU2, endCPU3, endGPU3], 'matrix_size':['256 x 256', '256 x 256', '512 x 512', '512 x 512', '1024 x 1024', '1024 x 1024']})\n",
        "timing_df"
      ],
      "execution_count": null,
      "outputs": [
        {
          "output_type": "execute_result",
          "data": {
            "text/html": [
              "<div>\n",
              "<style scoped>\n",
              "    .dataframe tbody tr th:only-of-type {\n",
              "        vertical-align: middle;\n",
              "    }\n",
              "\n",
              "    .dataframe tbody tr th {\n",
              "        vertical-align: top;\n",
              "    }\n",
              "\n",
              "    .dataframe thead th {\n",
              "        text-align: right;\n",
              "    }\n",
              "</style>\n",
              "<table border=\"1\" class=\"dataframe\">\n",
              "  <thead>\n",
              "    <tr style=\"text-align: right;\">\n",
              "      <th></th>\n",
              "      <th>name</th>\n",
              "      <th>timing in seconds</th>\n",
              "      <th>matrix size</th>\n",
              "    </tr>\n",
              "  </thead>\n",
              "  <tbody>\n",
              "    <tr>\n",
              "      <th>0</th>\n",
              "      <td>cpu</td>\n",
              "      <td>10.783913</td>\n",
              "      <td>256 x 256</td>\n",
              "    </tr>\n",
              "    <tr>\n",
              "      <th>1</th>\n",
              "      <td>gpu</td>\n",
              "      <td>0.007460</td>\n",
              "      <td>256 x 256</td>\n",
              "    </tr>\n",
              "    <tr>\n",
              "      <th>2</th>\n",
              "      <td>cpu</td>\n",
              "      <td>86.526845</td>\n",
              "      <td>512 x 512</td>\n",
              "    </tr>\n",
              "    <tr>\n",
              "      <th>3</th>\n",
              "      <td>gpu</td>\n",
              "      <td>0.034464</td>\n",
              "      <td>512 x 512</td>\n",
              "    </tr>\n",
              "    <tr>\n",
              "      <th>4</th>\n",
              "      <td>cpu</td>\n",
              "      <td>694.747012</td>\n",
              "      <td>1024 x 1024</td>\n",
              "    </tr>\n",
              "    <tr>\n",
              "      <th>5</th>\n",
              "      <td>gpu</td>\n",
              "      <td>0.159271</td>\n",
              "      <td>1024 x 1024</td>\n",
              "    </tr>\n",
              "  </tbody>\n",
              "</table>\n",
              "</div>"
            ],
            "text/plain": [
              "  name  timing in seconds  matrix size\n",
              "0  cpu          10.783913    256 x 256\n",
              "1  gpu           0.007460    256 x 256\n",
              "2  cpu          86.526845    512 x 512\n",
              "3  gpu           0.034464    512 x 512\n",
              "4  cpu         694.747012  1024 x 1024\n",
              "5  gpu           0.159271  1024 x 1024"
            ]
          },
          "metadata": {},
          "execution_count": 39
        }
      ]
    }
  ]
}