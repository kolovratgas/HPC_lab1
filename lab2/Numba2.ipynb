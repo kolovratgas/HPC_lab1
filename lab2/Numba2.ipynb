{
  "nbformat": 4,
  "nbformat_minor": 0,
  "metadata": {
    "colab": {
      "name": "Numba2.ipynb",
      "provenance": [],
      "collapsed_sections": [],
      "authorship_tag": "ABX9TyOINKm7/avUobXhEx5feg3Y",
      "include_colab_link": true
    },
    "kernelspec": {
      "name": "python3",
      "display_name": "Python 3"
    },
    "language_info": {
      "name": "python"
    },
    "accelerator": "GPU"
  },
  "cells": [
    {
      "cell_type": "markdown",
      "metadata": {
        "id": "view-in-github",
        "colab_type": "text"
      },
      "source": [
        "<a href=\"https://colab.research.google.com/github/kolovratgas/HPC_labs/blob/main/lab2/Numba2.ipynb\" target=\"_parent\"><img src=\"https://colab.research.google.com/assets/colab-badge.svg\" alt=\"Open In Colab\"/></a>"
      ]
    },
    {
      "cell_type": "code",
      "metadata": {
        "colab": {
          "base_uri": "https://localhost:8080/"
        },
        "id": "5Juyoxheq3zp",
        "outputId": "7498d7a5-66c8-4c91-d7af-b1333d44919a"
      },
      "source": [
        "!pip install numba"
      ],
      "execution_count": 74,
      "outputs": [
        {
          "output_type": "stream",
          "name": "stdout",
          "text": [
            "Requirement already satisfied: numba in /usr/local/lib/python3.7/dist-packages (0.51.2)\n",
            "Requirement already satisfied: numpy>=1.15 in /usr/local/lib/python3.7/dist-packages (from numba) (1.19.5)\n",
            "Requirement already satisfied: setuptools in /usr/local/lib/python3.7/dist-packages (from numba) (57.4.0)\n",
            "Requirement already satisfied: llvmlite<0.35,>=0.34.0.dev0 in /usr/local/lib/python3.7/dist-packages (from numba) (0.34.0)\n"
          ]
        }
      ]
    },
    {
      "cell_type": "code",
      "metadata": {
        "colab": {
          "base_uri": "https://localhost:8080/"
        },
        "id": "4eWL8Ineq_-o",
        "outputId": "99d7e3e6-e783-4ef2-d24f-8d586ce317c1"
      },
      "source": [
        "from numba import njit, jit, int32, cuda\n",
        "import numba\n",
        "import numpy as np\n",
        "import time\n",
        "from time import time\n",
        "from matplotlib import pyplot as plt\n",
        "import pandas as pd\n",
        "\n",
        "\n",
        "%pylab inline"
      ],
      "execution_count": 75,
      "outputs": [
        {
          "output_type": "stream",
          "name": "stdout",
          "text": [
            "Populating the interactive namespace from numpy and matplotlib\n"
          ]
        },
        {
          "output_type": "stream",
          "name": "stderr",
          "text": [
            "/usr/local/lib/python3.7/dist-packages/IPython/core/magics/pylab.py:161: UserWarning: pylab import has clobbered these variables: ['int32', 'time']\n",
            "`%matplotlib` prevents importing * from pylab and numpy\n",
            "  \"\\n`%matplotlib` prevents importing * from pylab and numpy\"\n"
          ]
        }
      ]
    },
    {
      "cell_type": "code",
      "metadata": {
        "id": "aD6g965N64gm"
      },
      "source": [
        "x1 = 1_000\n",
        "x2 = 10_000\n",
        "x3 = 100_000\n",
        "x4 = 500_000\n",
        "x5 = 1_000_000\n",
        "a1 = np.random.randint(1, 100, x1)\n",
        "a2 = np.random.randint(1, 100, x2)\n",
        "a3 = np.random.randint(1, 100, x3)\n",
        "a4 = np.random.randint(1, 100, x4)\n",
        "a5 = np.random.randint(1, 100, x5)\n",
        "c1 = np.zeros(1, dtype = np.int32)"
      ],
      "execution_count": 76,
      "outputs": []
    },
    {
      "cell_type": "code",
      "metadata": {
        "id": "cR35vW723QAc"
      },
      "source": [
        "threads_per_block = 16"
      ],
      "execution_count": 77,
      "outputs": []
    },
    {
      "cell_type": "code",
      "metadata": {
        "id": "ZDM6Zyjt3Yub"
      },
      "source": [
        "@cuda.jit\n",
        "def dev_vec_sum(a, c):\n",
        "  sh_b = cuda.shared.array(threads_per_block, int32)\n",
        "\n",
        "  thread_id = cuda.threadIdx.x\n",
        "  block_id = cuda.blockIdx.x\n",
        "  idx = thread_id + block_id * threads_per_block\n",
        "  sh_b[thread_id] = 0\n",
        "\n",
        "  if idx < a.shape[0]:\n",
        "    sh_b[thread_id] = a[idx]\n",
        "    cuda.syncthreads()\n",
        "    if cuda.threadIdx.x == 0:\n",
        "      sum_of_arr = 0\n",
        "      for i in range(threads_per_block):\n",
        "        sum_of_arr += sh_b[i]\n",
        "      cuda.atomic.add(c, 0, sum_of_arr)\n",
        "\n",
        "def DeviceHost(a, c):\n",
        "    dev_a = cuda.to_device(a)\n",
        "    dev_c = cuda.to_device(c)\n",
        "    dev_vec_sum[threads_per_block, threads_per_block](dev_a, dev_c)\n",
        "    c = dev_c.copy_to_host()"
      ],
      "execution_count": 78,
      "outputs": []
    },
    {
      "cell_type": "code",
      "metadata": {
        "colab": {
          "base_uri": "https://localhost:8080/"
        },
        "id": "GzwrSSIo_aRv",
        "outputId": "35cfe557-8902-425e-bf1e-058f9edbf85b"
      },
      "source": [
        "start1 = time.time()\n",
        "DeviceHost(a1, c1)\n",
        "end1 = time.time() - start1\n",
        "print(end1)"
      ],
      "execution_count": 79,
      "outputs": [
        {
          "output_type": "stream",
          "name": "stdout",
          "text": [
            "0.23203635215759277\n"
          ]
        }
      ]
    },
    {
      "cell_type": "code",
      "metadata": {
        "id": "4W2NkYmxBNLm",
        "colab": {
          "base_uri": "https://localhost:8080/"
        },
        "outputId": "ece3df4a-e2c4-409a-a058-83b74342bb00"
      },
      "source": [
        "start2 = time.time()\n",
        "DeviceHost(a2, c1)\n",
        "end2 = time.time() - start2\n",
        "print(end2)"
      ],
      "execution_count": 80,
      "outputs": [
        {
          "output_type": "stream",
          "name": "stdout",
          "text": [
            "0.002707242965698242\n"
          ]
        }
      ]
    },
    {
      "cell_type": "code",
      "metadata": {
        "id": "rKNapdjpBVT1",
        "colab": {
          "base_uri": "https://localhost:8080/"
        },
        "outputId": "dc82ee4a-7fce-4559-cab4-de46f2f23c20"
      },
      "source": [
        "start3 = time.time()\n",
        "DeviceHost(a3, c1)\n",
        "end3 = time.time() - start3\n",
        "print(end3)"
      ],
      "execution_count": 81,
      "outputs": [
        {
          "output_type": "stream",
          "name": "stdout",
          "text": [
            "0.006430625915527344\n"
          ]
        }
      ]
    },
    {
      "cell_type": "code",
      "metadata": {
        "id": "j7euVAK-JYsw",
        "colab": {
          "base_uri": "https://localhost:8080/"
        },
        "outputId": "d3fc47d2-b496-416b-a900-b314e263128c"
      },
      "source": [
        "start4 = time.time()\n",
        "DeviceHost(a4, c1)\n",
        "end4 = time.time() - start4\n",
        "print(end4)"
      ],
      "execution_count": 82,
      "outputs": [
        {
          "output_type": "stream",
          "name": "stdout",
          "text": [
            "0.006089925765991211\n"
          ]
        }
      ]
    },
    {
      "cell_type": "code",
      "metadata": {
        "colab": {
          "base_uri": "https://localhost:8080/"
        },
        "id": "FGf7c1K_Hodo",
        "outputId": "2fcf0677-7811-4fec-864d-34e73524d92f"
      },
      "source": [
        "start5 = time.time()\n",
        "DeviceHost(a5, c1)\n",
        "end5 = time.time() - start5\n",
        "print(end5)"
      ],
      "execution_count": 83,
      "outputs": [
        {
          "output_type": "stream",
          "name": "stdout",
          "text": [
            "0.008217334747314453\n"
          ]
        }
      ]
    },
    {
      "cell_type": "code",
      "metadata": {
        "id": "hppu8wcIBjNV"
      },
      "source": [
        "def cpu_vec_sum(a):\n",
        "  return np.sum(a)"
      ],
      "execution_count": 84,
      "outputs": []
    },
    {
      "cell_type": "code",
      "metadata": {
        "id": "bDWHghHvB2AG",
        "colab": {
          "base_uri": "https://localhost:8080/"
        },
        "outputId": "2013694f-6c00-4bf0-b8ee-efa78b237c0d"
      },
      "source": [
        "startCPU1 = time.time()\n",
        "cpu_vec_sum(a1)\n",
        "endCPU1 = time.time() - startCPU1\n",
        "print(endCPU1)"
      ],
      "execution_count": 85,
      "outputs": [
        {
          "output_type": "stream",
          "name": "stdout",
          "text": [
            "0.0003566741943359375\n"
          ]
        }
      ]
    },
    {
      "cell_type": "code",
      "metadata": {
        "id": "6ZwwkQ-TCEu3",
        "colab": {
          "base_uri": "https://localhost:8080/"
        },
        "outputId": "b8f3c801-1449-47ee-97cf-db25dafeed61"
      },
      "source": [
        "startCPU2 = time.time()\n",
        "cpu_vec_sum(a2)\n",
        "endCPU2 = time.time() - startCPU2\n",
        "print(endCPU2)"
      ],
      "execution_count": 86,
      "outputs": [
        {
          "output_type": "stream",
          "name": "stdout",
          "text": [
            "0.00027179718017578125\n"
          ]
        }
      ]
    },
    {
      "cell_type": "code",
      "metadata": {
        "id": "UL-f52cOCOcN",
        "colab": {
          "base_uri": "https://localhost:8080/"
        },
        "outputId": "ad75e6eb-266b-43bf-8448-2f98e8369188"
      },
      "source": [
        "startCPU3 = time.time()\n",
        "cpu_vec_sum(a3)\n",
        "endCPU3 = time.time() - startCPU3\n",
        "print(endCPU3)"
      ],
      "execution_count": 87,
      "outputs": [
        {
          "output_type": "stream",
          "name": "stdout",
          "text": [
            "0.00037479400634765625\n"
          ]
        }
      ]
    },
    {
      "cell_type": "code",
      "metadata": {
        "id": "e3aluNU5CXZP",
        "colab": {
          "base_uri": "https://localhost:8080/"
        },
        "outputId": "90dd2a50-b5e9-416a-efb3-e84f42e1f2d0"
      },
      "source": [
        "startCPU4 = time.time()\n",
        "cpu_vec_sum(a4)\n",
        "endCPU4 = time.time() - startCPU4\n",
        "print(endCPU4)"
      ],
      "execution_count": 88,
      "outputs": [
        {
          "output_type": "stream",
          "name": "stdout",
          "text": [
            "0.0035865306854248047\n"
          ]
        }
      ]
    },
    {
      "cell_type": "code",
      "metadata": {
        "colab": {
          "base_uri": "https://localhost:8080/"
        },
        "id": "7k_6Df2PH0Sn",
        "outputId": "5bb056c5-f7cb-47ca-b243-da0fa3b2f037"
      },
      "source": [
        "startCPU5 = time.time()\n",
        "cpu_vec_sum(a5)\n",
        "endCPU5 = time.time() - startCPU5\n",
        "print(endCPU5)"
      ],
      "execution_count": 89,
      "outputs": [
        {
          "output_type": "stream",
          "name": "stdout",
          "text": [
            "0.003928661346435547\n"
          ]
        }
      ]
    },
    {
      "cell_type": "code",
      "metadata": {
        "colab": {
          "base_uri": "https://localhost:8080/",
          "height": 203
        },
        "id": "HIEQfBxzzbJr",
        "outputId": "5ae69611-57b8-41b3-daf9-95155c71752b"
      },
      "source": [
        "df1 = pd.DataFrame({'расчёты на CPU':[endCPU1, endCPU2, endCPU3, endCPU4, endCPU5], 'расчёты на GPU':[end1, end2, end3, end4, end5]}, index=[x1, x2, x3, x4, x5])\n",
        "df1"
      ],
      "execution_count": 90,
      "outputs": [
        {
          "output_type": "execute_result",
          "data": {
            "text/html": [
              "<div>\n",
              "<style scoped>\n",
              "    .dataframe tbody tr th:only-of-type {\n",
              "        vertical-align: middle;\n",
              "    }\n",
              "\n",
              "    .dataframe tbody tr th {\n",
              "        vertical-align: top;\n",
              "    }\n",
              "\n",
              "    .dataframe thead th {\n",
              "        text-align: right;\n",
              "    }\n",
              "</style>\n",
              "<table border=\"1\" class=\"dataframe\">\n",
              "  <thead>\n",
              "    <tr style=\"text-align: right;\">\n",
              "      <th></th>\n",
              "      <th>расчёты на CPU</th>\n",
              "      <th>расчёты на GPU</th>\n",
              "    </tr>\n",
              "  </thead>\n",
              "  <tbody>\n",
              "    <tr>\n",
              "      <th>1000</th>\n",
              "      <td>0.000357</td>\n",
              "      <td>0.232036</td>\n",
              "    </tr>\n",
              "    <tr>\n",
              "      <th>10000</th>\n",
              "      <td>0.000272</td>\n",
              "      <td>0.002707</td>\n",
              "    </tr>\n",
              "    <tr>\n",
              "      <th>100000</th>\n",
              "      <td>0.000375</td>\n",
              "      <td>0.006431</td>\n",
              "    </tr>\n",
              "    <tr>\n",
              "      <th>500000</th>\n",
              "      <td>0.003587</td>\n",
              "      <td>0.006090</td>\n",
              "    </tr>\n",
              "    <tr>\n",
              "      <th>1000000</th>\n",
              "      <td>0.003929</td>\n",
              "      <td>0.008217</td>\n",
              "    </tr>\n",
              "  </tbody>\n",
              "</table>\n",
              "</div>"
            ],
            "text/plain": [
              "         расчёты на CPU  расчёты на GPU\n",
              "1000           0.000357        0.232036\n",
              "10000          0.000272        0.002707\n",
              "100000         0.000375        0.006431\n",
              "500000         0.003587        0.006090\n",
              "1000000        0.003929        0.008217"
            ]
          },
          "metadata": {},
          "execution_count": 90
        }
      ]
    }
  ]
}